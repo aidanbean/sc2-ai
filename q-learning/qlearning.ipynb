{
 "cells": [
  {
   "cell_type": "code",
   "execution_count": 1,
   "metadata": {},
   "outputs": [],
   "source": [
    "import gym \n",
    "import numpy as np"
   ]
  },
  {
   "cell_type": "code",
   "execution_count": 2,
   "metadata": {},
   "outputs": [],
   "source": [
    "# establish gym environment \n",
    "env = gym.make('FrozenLake-v0')"
   ]
  },
  {
   "cell_type": "code",
   "execution_count": 20,
   "metadata": {},
   "outputs": [],
   "source": [
    "# init variables \n",
    "# Q table is all zeros, with size of (observation, action) space size \n",
    "Q = np.zeros((env.observation_space.n, env.action_space.n))\n",
    "\n",
    "# learning parameters \n",
    "lr = 0.8\n",
    "y = 0.95\n",
    "num_episodes = 2000\n",
    "\n",
    "# list to contain total rewards and steps per episode\n",
    "rewardList = []"
   ]
  },
  {
   "cell_type": "code",
   "execution_count": 21,
   "metadata": {},
   "outputs": [],
   "source": [
    "# run basic Q learning algorithm \n",
    "for i in range(num_episodes):\n",
    "    state = env.reset()\n",
    "    rewardAll = 0\n",
    "    done = False \n",
    "    j = 0\n",
    "    \n",
    "    # Q table learning algorithm \n",
    "    while j < 99:\n",
    "        j += 1\n",
    "        \n",
    "        # randomly choose available action from current state's actions\n",
    "        action = np.argmax(Q[state,:] + np.random.randn(1,env.action_space.n)*(1./(i+1)))\n",
    "        \n",
    "        # take step in environment\n",
    "        state1, reward, done, _ = env.step(action) \n",
    "        \n",
    "        # bellman equation \n",
    "        Q[state, action] = Q[state, action] + lr*(reward + y * np.max(Q[state,:]) - Q[state, action])\n",
    "        \n",
    "        # update reward and state\n",
    "        rewardAll += reward \n",
    "        state = state1\n",
    "        if done is True:\n",
    "            break \n",
    "            \n",
    "    rewardList.append(rewardAll)"
   ]
  },
  {
   "cell_type": "code",
   "execution_count": 22,
   "metadata": {},
   "outputs": [
    {
     "name": "stdout",
     "output_type": "stream",
     "text": [
      "Score over time: 0.013\n",
      "Final Q Table: \n",
      "[[ 0.          0.          0.          0.        ]\n",
      " [ 0.          0.          0.          0.        ]\n",
      " [ 0.          0.          0.          0.        ]\n",
      " [ 0.          0.          0.          0.        ]\n",
      " [ 0.          0.          0.          0.        ]\n",
      " [ 0.          0.          0.          0.        ]\n",
      " [ 0.          0.          0.          0.        ]\n",
      " [ 0.          0.          0.          0.        ]\n",
      " [ 0.          0.          0.          0.        ]\n",
      " [ 0.          0.          0.          0.        ]\n",
      " [ 0.          0.          0.          0.        ]\n",
      " [ 0.          0.          0.          0.        ]\n",
      " [ 0.          0.          0.          0.        ]\n",
      " [ 0.          0.          0.          0.        ]\n",
      " [ 0.          0.          0.          5.08486902]\n",
      " [ 0.          0.          0.          0.        ]]\n"
     ]
    }
   ],
   "source": [
    "print(\"Score over time: \" + str(sum(rewardList)/num_episodes))\n",
    "print(\"Final Q Table: \")\n",
    "print(Q)"
   ]
  },
  {
   "cell_type": "code",
   "execution_count": null,
   "metadata": {},
   "outputs": [],
   "source": []
  }
 ],
 "metadata": {
  "kernelspec": {
   "display_name": "Python 3",
   "language": "python",
   "name": "python3"
  },
  "language_info": {
   "codemirror_mode": {
    "name": "ipython",
    "version": 3
   },
   "file_extension": ".py",
   "mimetype": "text/x-python",
   "name": "python",
   "nbconvert_exporter": "python",
   "pygments_lexer": "ipython3",
   "version": "3.6.3"
  }
 },
 "nbformat": 4,
 "nbformat_minor": 2
}
