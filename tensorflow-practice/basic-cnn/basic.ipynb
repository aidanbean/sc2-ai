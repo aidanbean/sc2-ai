{
 "cells": [
  {
   "cell_type": "code",
   "execution_count": null,
   "metadata": {},
   "outputs": [
    {
     "name": "stderr",
     "output_type": "stream",
     "text": [
      "/Library/Frameworks/Python.framework/Versions/3.6/lib/python3.6/importlib/_bootstrap.py:219: RuntimeWarning: compiletime version 3.5 of module 'tensorflow.python.framework.fast_tensor_util' does not match runtime version 3.6\n",
      "  return f(*args, **kwds)\n"
     ]
    }
   ],
   "source": [
    "import tensorflow as tf\n",
    "import numpy as np"
   ]
  },
  {
   "cell_type": "code",
   "execution_count": null,
   "metadata": {},
   "outputs": [],
   "source": [
    "### general"
   ]
  },
  {
   "cell_type": "code",
   "execution_count": null,
   "metadata": {
    "collapsed": false
   },
   "outputs": [
    {
     "name": "stdout",
     "output_type": "stream",
     "text": [
      "0 [-0.40181726] [0.76718825]\n",
      "20 [-0.07674953] [0.39239362]\n",
      "40 [0.04668209] [0.3278713]\n",
      "60 [0.08391625] [0.3084076]\n",
      "80 [0.09514823] [0.30253622]\n",
      "100 [0.09853644] [0.30076507]\n",
      "120 [0.09955851] [0.3002308]\n",
      "140 [0.09986682] [0.30006963]\n",
      "160 [0.09995984] [0.300021]\n",
      "180 [0.09998791] [0.30000633]\n",
      "200 [0.09999636] [0.30000192]\n"
     ]
    }
   ],
   "source": [
    "# create data\n",
    "x_data = np.random.rand(100).astype(np.float32)\n",
    "y_data = x_data*0.1 + 0.3 # weight * x + bias\n",
    "\n",
    "\n",
    "Weights = tf.Variable(tf.random_uniform([1], -1.0, 1.0))\n",
    "biases = tf.Variable(tf.zeros([1]))\n",
    "\n",
    "# create loss function\n",
    "y = Weights*x_data + biases\n",
    "loss = tf.reduce_mean(tf.square(y - y_data))\n",
    "\n",
    "# create tensor net\n",
    "optimizer = tf.train.GradientDescentOptimizer(learning_rate=0.5)\n",
    "train = optimizer.minimize(loss=loss)\n",
    "\n",
    "init = tf.global_variables_initializer()\n",
    "sess = tf.Session()\n",
    "sess.run(init)\n",
    "\n",
    "if __name__ == '__main__':\n",
    "    for step in range(201):\n",
    "        sess.run(train)\n",
    "        if step % 20 == 0:\n",
    "            print(step, sess.run(Weights), sess.run(biases))"
   ]
  },
  {
   "cell_type": "code",
   "execution_count": 4,
   "metadata": {},
   "outputs": [],
   "source": [
    "### session"
   ]
  },
  {
   "cell_type": "code",
   "execution_count": 5,
   "metadata": {
    "collapsed": true
   },
   "outputs": [
    {
     "name": "stdout",
     "output_type": "stream",
     "text": [
      "[[12]]\n",
      "[[12]]\n"
     ]
    }
   ],
   "source": [
    "\"\"\"sessions \"\"\"\n",
    "if __name__ == '__main__':\n",
    "    m1 = tf.constant(value=[[3,3]])\n",
    "    m2 = tf.constant(value=[[2], [2]])\n",
    "    product = tf.matmul(m1, m2)\n",
    "\n",
    "    sess = tf.Session() # A class for running TensorFlow operations.\n",
    "    result = sess.run(product)\n",
    "    print(result)\n",
    "    sess.close()\n",
    "\n",
    "    with tf.Session() as sess:\n",
    "        result2 = sess.run(product)\n",
    "        print(result2)"
   ]
  },
  {
   "cell_type": "code",
   "execution_count": 6,
   "metadata": {},
   "outputs": [],
   "source": [
    "### variables"
   ]
  },
  {
   "cell_type": "code",
   "execution_count": 7,
   "metadata": {
    "collapsed": false
   },
   "outputs": [
    {
     "name": "stdout",
     "output_type": "stream",
     "text": [
      "1\n",
      "2\n",
      "3\n"
     ]
    }
   ],
   "source": [
    "\"\"\"variables\"\"\"\n",
    "\n",
    "if __name__ == '__main__':\n",
    "    state = tf.Variable(initial_value=0, name='counter')\n",
    "    one = tf.constant(value=1)\n",
    "    new_value = tf.add(x=state, y=one)\n",
    "    update = tf.assign(ref=state, value=new_value) # change state's value\n",
    "\n",
    "    # if you define a value from tensorflow, you must initilize it\n",
    "    init = tf.global_variables_initializer()\n",
    "    \n",
    "    with tf.Session() as sess:\n",
    "        sess.run(init)\n",
    "        for _ in range(3):\n",
    "            sess.run(update)\n",
    "            print(sess.run(state)) # print(state) wont work !"
   ]
  },
  {
   "cell_type": "code",
   "execution_count": null,
   "metadata": {},
   "outputs": [],
   "source": [
    "### placeholder"
   ]
  },
  {
   "cell_type": "code",
   "execution_count": null,
   "metadata": {},
   "outputs": [],
   "source": [
    "if __name__ == '__main__':\n",
    "    i1 = tf.placeholder(dtype=tf.float32) # often used with sess.run(***, feed_dict={})\n",
    "    i2 = tf.placeholder(dtype=tf.float32) # to store values temporarily\n",
    "    o = tf.multiply(x=i1, y=i2)\n",
    "    with tf.Session() as sess:\n",
    "        print(sess.run(o, feed_dict={i1: [7.], i2:[2.]}))"
   ]
  },
  {
   "cell_type": "code",
   "execution_count": null,
   "metadata": {},
   "outputs": [],
   "source": [
    "### add layer in tensorflow"
   ]
  },
  {
   "cell_type": "code",
   "execution_count": null,
   "metadata": {},
   "outputs": [],
   "source": [
    "\n",
    "def add_layer(inputs, in_size, out_size, activation_func = None):\n",
    "    weights = tf.Variable(initial_value=tf.random_normal([in_size, out_size]))\n",
    "    bias = tf.Variable(initial_value=tf.zeros([1, out_size]) + 0.1) # [0.1 ...., 0.1] size = outsize\n",
    "    wx_plus_b = tf.matmul(a=inputs, b=weights) + bias\n",
    "\n",
    "    if activation_func is None:\n",
    "        return wx_plus_b\n",
    "    else:\n",
    "        return activation_func(wx_plus_b)"
   ]
  },
  {
   "cell_type": "code",
   "execution_count": null,
   "metadata": {},
   "outputs": [],
   "source": [
    "x_data = np.linspace(start=-1,stop=1,num=300,dtype=np.float32)[:, np.newaxis] # convert to 300 rows\n",
    "noise = np.random.normal(loc=0,scale=0.05,size=x_data.shape).astype(np.float32)\n",
    "y_data = np.square(x_data) - 0.5 + noise \n",
    "\n",
    "xs = tf.placeholder(dtype=tf.float32, shape=[None, 1])\n",
    "ys = tf.placeholder(tf.float32, [None, 1])\n",
    "\n",
    "# hidden layer\n",
    "l1 = add_layer(inputs=xs, in_size=1, out_size=10, activation_func=tf.nn.relu)\n",
    "# output layer\n",
    "prediction = add_layer(l1, in_size=10, out_size=1, activation_func=None)\n",
    "\n",
    "loss = tf.reduce_mean(tf.reduce_sum(tf.square(y_data - ys)), reduction_indices=[1]) # 1/ n (sum (difference^ 2))\n",
    "# reduce indices = The old (deprecated) name for axis.\n",
    "\n",
    "# define training algorithm\n",
    "train_step = tf.train.GradientDescentOptimizer(learning_rate=0.1).minimize(loss)\n",
    "\n",
    "# initalization for all variable for tensorflow\n",
    "init = tf.global_variables_initializer()\n",
    "\n",
    "# start session and \n",
    "sess = tf.Session()\n",
    "sess.run(init)\n",
    "for i in range(1000):\n",
    "    sess.run(train_step, feed_dict={xs: x_data, ys: y_data})\n",
    "    if i % 50 == 0:\n",
    "        print(sess.run(loss, feed_dict={xs: x_data, ys: y_data}))\n",
    "\n",
    "\n"
   ]
  }
 ],
 "metadata": {
  "kernelspec": {
   "display_name": "Python 3",
   "language": "python",
   "name": "python3"
  },
  "language_info": {
   "codemirror_mode": {
    "name": "ipython",
    "version": 3
   },
   "file_extension": ".py",
   "mimetype": "text/x-python",
   "name": "python",
   "nbconvert_exporter": "python",
   "pygments_lexer": "ipython3",
   "version": "3.6.3"
  }
 },
 "nbformat": 4,
 "nbformat_minor": 1
}
