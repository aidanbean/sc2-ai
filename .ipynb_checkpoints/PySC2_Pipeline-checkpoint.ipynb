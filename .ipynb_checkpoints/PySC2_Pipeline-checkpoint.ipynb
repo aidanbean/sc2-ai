{
 "cells": [
  {
   "cell_type": "markdown",
   "metadata": {},
   "source": [
    "# Running an agent in one file\n",
    "\n",
    "The standard way to run an agent in PySC2 is simple. However, it's built on top of a few abstractions that make it difficult to know how modify the source code (e.g. training our own reinforcement learning agent). This purpose of this notebook is to elucidate the PySC2 pipeline for initializing an agent and having it interact with the environment. Most of the code here is adapted from the PySC2 source code but has been modified to work end-to-end in one file. "
   ]
  },
  {
   "cell_type": "code",
   "execution_count": 1,
   "metadata": {},
   "outputs": [
    {
     "name": "stdout",
     "output_type": "stream",
     "text": [
      "['/usr/local/lib/python3.6/site-packages/ipykernel_launcher.py', '-f', '/Users/aidan/Library/Jupyter/runtime/kernel-51068bd1-6dac-4fb0-9af0-c41f0ad15587.json']\n"
     ]
    }
   ],
   "source": [
    "'''Imports and resolving issues to make notebook work'''\n",
    "from __future__ import absolute_import\n",
    "from __future__ import division\n",
    "from __future__ import print_function\n",
    "\n",
    "import sys\n",
    "import json\n",
    "import numpy\n",
    "import importlib\n",
    "import threading\n",
    "import time\n",
    "from future.builtins import range\n",
    "\n",
    "# Issue #1 that I ran into and solution: https://github.com/chris-chris/pysc2-examples/issues/5#issuecomment-342088938\n",
    "\n",
    "# Issue #2: Apparently jupyter notebook sometimes passes some command line arguments. The -f flag confuses the pysc2\n",
    "# library which will result in an error. Removing that argument is a hacky way to get through\n",
    "# this. \n",
    "print(sys.argv)\n",
    "sys.argv[1:] = []\n",
    "\n",
    "from pysc2 import maps\n",
    "from pysc2.env import sc2_env\n",
    "from pysc2.env import available_actions_printer\n",
    "from pysc2.lib import actions\n",
    "from pysc2.lib import features\n",
    "from pysc2.lib import stopwatch\n",
    "from pysc2.bin import agent\n",
    "from pysc2.agents import base_agent"
   ]
  },
  {
   "cell_type": "code",
   "execution_count": 2,
   "metadata": {},
   "outputs": [],
   "source": [
    "'''A simple random agent that shows how to select from available function ids and type ids'''\n",
    "class RandomAgent(base_agent.BaseAgent):\n",
    "    \"\"\"A random agent for starcraft.\"\"\"\n",
    "\n",
    "    def step(self, obs):\n",
    "        super(RandomAgent, self).step(obs)\n",
    "        function_id = numpy.random.choice(obs.observation.available_actions)\n",
    "        args = [[numpy.random.randint(0, size) for size in arg.sizes]\n",
    "                for arg in self.action_spec.functions[function_id].args]\n",
    "        return actions.FunctionCall(function_id, args)"
   ]
  },
  {
   "cell_type": "code",
   "execution_count": 3,
   "metadata": {
    "scrolled": true
   },
   "outputs": [
    {
     "name": "stdout",
     "output_type": "stream",
     "text": [
      "MoveToBeacon\n",
      "    mini_games/MoveToBeacon.SC2Map\n",
      "    players: 1, score_index: 0, score_multiplier: 1\n",
      "    step_mul: 8, game_steps_per_episode: 0\n",
      "[<class '__main__.RandomAgent'>]\n",
      "[Agent(race=<Race.random: 4>)]\n"
     ]
    }
   ],
   "source": [
    "'''Some arguments that would have been passed from command line if agent was ran normally'''\n",
    "FLAG_map = \"MoveToBeacon\"\n",
    "FLAG_agent = RandomAgent\n",
    "FLAG_agent_race = \"random\"\n",
    "FLAG_profile = False\n",
    "FLAG_trace = False\n",
    "FLAG_parallel = 1 # How many instances to run in parallel.\n",
    "FLAG_feature_screen_size = 84\n",
    "FLAG_feature_minimap_size = 64\n",
    "FLAG_rgb_screen_size = None\n",
    "FLAG_rgb_minimap_size = None\n",
    "FLAG_action_space = None\n",
    "FLAG_use_feature_units = False\n",
    "FLAG_step_mul = 8\n",
    "FLAG_game_steps_per_episode = None\n",
    "FLAG_render = True # Whether to render with pygame.\n",
    "FLAG_max_agent_steps = 0\n",
    "FLAG_max_episodes = 4\n",
    "FLAG_save_replay = False\n",
    "\n",
    "'''Some other settings'''\n",
    "map_inst = maps.get(FLAG_map)\n",
    "\n",
    "agent_classes = []\n",
    "players = []\n",
    "\n",
    "agent_cls = FLAG_agent\n",
    "agent_classes.append(agent_cls)\n",
    "players.append(sc2_env.Agent(sc2_env.Race[FLAG_agent_race]))\n",
    "\n",
    "print(map_inst)\n",
    "print(agent_classes)\n",
    "print(players)\n",
    "\n",
    "stopwatch.sw.enabled = FLAG_profile or FLAG_trace\n",
    "stopwatch.sw.trace = FLAG_trace\n",
    "\n",
    "threads = []\n",
    "# currently only one thread will run\n",
    "for _ in range(FLAG_parallel - 1):\n",
    "    print(\"Multiple threads being used\")\n",
    "    t = threading.Thread(target=run_thread,\n",
    "                         args=(agent_classes, players, FLAGS.map, False))\n",
    "    threads.append(t)\n",
    "    t.start()"
   ]
  },
  {
   "cell_type": "code",
   "execution_count": 4,
   "metadata": {},
   "outputs": [],
   "source": [
    "'''The main loop where agents and environment interacts'''\n",
    "def run_loop(agents, env, max_frames=0, max_episodes=0):\n",
    "    total_frames = 0\n",
    "    total_episodes = 0\n",
    "    start_time = time.time()\n",
    "\n",
    "    observation_spec = env.observation_spec()\n",
    "    action_spec = env.action_spec()\n",
    "    for agent, obs_spec, act_spec in zip(agents, observation_spec, action_spec):\n",
    "        agent.setup(obs_spec, act_spec)\n",
    "\n",
    "    try:\n",
    "        while not max_episodes or total_episodes < max_episodes:\n",
    "            total_episodes += 1\n",
    "            timesteps = env.reset()\n",
    "            for a in agents:\n",
    "                a.reset()\n",
    "            while True:\n",
    "                total_frames += 1\n",
    "                actions = [agent.step(timestep)\n",
    "                            for agent, timestep in zip(agents, timesteps)]\n",
    "                if max_frames and total_frames >= max_frames:\n",
    "                    return \n",
    "                if timesteps[0].last():\n",
    "                    break\n",
    "                timesteps = env.step(actions)\n",
    "    except KeyboardInterrupt:\n",
    "        pass\n",
    "    finally:\n",
    "        elapsed_time = time.time() - start_time\n",
    "        print(\"Took %.3f seconds for %s steps: %.3f fps\" % (\n",
    "            elapsed_time, total_frames, total_frames / elapsed_time))"
   ]
  },
  {
   "cell_type": "code",
   "execution_count": 5,
   "metadata": {},
   "outputs": [],
   "source": [
    "'''\n",
    "Create an AgentInterfaceFormat to pass into the environment initializer.  \n",
    "Must do this in the newest version of pysc2\n",
    "'''\n",
    "FLAG_agent_interface_format = features.parse_agent_interface_format(\n",
    "    feature_screen=FLAG_feature_screen_size,\n",
    "    feature_minimap=FLAG_feature_minimap_size,\n",
    "    rgb_screen=FLAG_rgb_screen_size,\n",
    "    rgb_minimap=FLAG_rgb_minimap_size,\n",
    "    action_space=FLAG_action_space,\n",
    "    camera_width_world_units=64,\n",
    "    use_feature_units=FLAG_use_feature_units,\n",
    ")"
   ]
  },
  {
   "cell_type": "code",
   "execution_count": 6,
   "metadata": {},
   "outputs": [
    {
     "name": "stderr",
     "output_type": "stream",
     "text": [
      "E0530 13:35:47.228012 140735531873152 renderer_human.py:205] Failed to get the resolution from xrandr.\n"
     ]
    },
    {
     "name": "stdout",
     "output_type": "stream",
     "text": [
      "   0/no_op                                              ()\n",
      "   1/move_camera                                        (1/minimap [64, 64])\n",
      "   2/select_point                                       (6/select_point_act [4]; 0/screen [84, 84])\n",
      "   3/select_rect                                        (7/select_add [2]; 0/screen [84, 84]; 2/screen2 [84, 84])\n",
      "   4/select_control_group                               (4/control_group_act [5]; 5/control_group_id [10])\n",
      "   7/select_army                                        (7/select_add [2])\n",
      " 453/Stop_quick                                         (3/queued [2])\n",
      " 451/Smart_screen                                       (3/queued [2]; 0/screen [84, 84])\n",
      " 452/Smart_minimap                                      (3/queued [2]; 1/minimap [64, 64])\n",
      " 331/Move_screen                                        (3/queued [2]; 0/screen [84, 84])\n",
      " 332/Move_minimap                                       (3/queued [2]; 1/minimap [64, 64])\n",
      " 333/Patrol_screen                                      (3/queued [2]; 0/screen [84, 84])\n",
      " 334/Patrol_minimap                                     (3/queued [2]; 1/minimap [64, 64])\n",
      "  12/Attack_screen                                      (3/queued [2]; 0/screen [84, 84])\n",
      "  13/Attack_minimap                                     (3/queued [2]; 1/minimap [64, 64])\n",
      " 274/HoldPosition_quick                                 (3/queued [2])\n"
     ]
    },
    {
     "name": "stderr",
     "output_type": "stream",
     "text": [
      "E0530 13:36:00.884307 140735531873152 _logging.py:53] close status: 16896\n"
     ]
    },
    {
     "name": "stdout",
     "output_type": "stream",
     "text": [
      "Took 13.448 seconds for 960 steps: 71.387 fps\n"
     ]
    }
   ],
   "source": [
    "\"\"\"Run one thread worth of the environment with agents.\"\"\"\n",
    "with sc2_env.SC2Env(\n",
    "    map_name=FLAG_map,\n",
    "    players=players,\n",
    "#     feature_screen_size=FLAG_feature_screen_size,\n",
    "#     feature_minimap_size=FLAG_feature_minimap_size,\n",
    "#     rgb_screen_size=FLAG_rgb_screen_size,\n",
    "#     rgb_minimap_size=FLAG_rgb_minimap_size,\n",
    "#     action_space=FLAG_action_space,\n",
    "#     use_feature_units=FLAG_use_feature_units,\n",
    "    agent_interface_format=FLAG_agent_interface_format,\n",
    "    step_mul=FLAG_step_mul,\n",
    "    game_steps_per_episode=FLAG_game_steps_per_episode,\n",
    "    visualize=FLAG_render) as env:\n",
    "        env = available_actions_printer.AvailableActionsPrinter(env)\n",
    "        agents = [agent_cls() for agent_cls in agent_classes]     \n",
    "        run_loop(agents, env, FLAG_max_agent_steps, FLAG_max_episodes)\n",
    "        if FLAG_save_replay:\n",
    "            env.save_replay(agent_classes[0].__name__)\n",
    "\n",
    "for t in threads:\n",
    "    t.join()\n",
    "\n",
    "if FLAG_profile:\n",
    "    print(stopwatch.sw)"
   ]
  },
  {
   "cell_type": "code",
   "execution_count": null,
   "metadata": {},
   "outputs": [],
   "source": []
  }
 ],
 "metadata": {
  "kernelspec": {
   "display_name": "Python 3",
   "language": "python",
   "name": "python3"
  },
  "language_info": {
   "codemirror_mode": {
    "name": "ipython",
    "version": 3
   },
   "file_extension": ".py",
   "mimetype": "text/x-python",
   "name": "python",
   "nbconvert_exporter": "python",
   "pygments_lexer": "ipython3",
   "version": "3.6.5"
  }
 },
 "nbformat": 4,
 "nbformat_minor": 2
}
