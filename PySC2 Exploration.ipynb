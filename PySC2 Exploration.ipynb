{
 "cells": [
  {
   "cell_type": "markdown",
   "metadata": {},
   "source": [
    "##  Introduction\n",
    "\n",
    "The purpose of this notebook is to explore the PySC2 environment in code such that we understand how to interact with the environment.\n",
    "\n",
    "### For details about the arguments to pass into sc2_env.SC2Env\n",
    "https://github.com/deepmind/pysc2/blob/master/pysc2/env/sc2_env.py#L98"
   ]
  },
  {
   "cell_type": "code",
   "execution_count": 1,
   "metadata": {},
   "outputs": [
    {
     "name": "stdout",
     "output_type": "stream",
     "text": [
      "['C:\\\\Users\\\\Yimang\\\\Miniconda3\\\\lib\\\\site-packages\\\\ipykernel_launcher.py', '-f', 'C:\\\\Users\\\\Yimang\\\\AppData\\\\Roaming\\\\jupyter\\\\runtime\\\\kernel-5a9a82bd-dc4a-4cfa-857f-0bb277e683fe.json']\n"
     ]
    },
    {
     "name": "stderr",
     "output_type": "stream",
     "text": [
      "E0518 16:59:22.329473  6832 _logging.py:53] close status: 16896\n",
      "W0518 16:59:25.438498  6832 sc_process.py:182] Killing the process.\n"
     ]
    }
   ],
   "source": [
    "import sys\n",
    "\n",
    "# Apparently jupyter notebook passes some command line arguments. The -f flag confuses the pysc2\n",
    "# library which will result in an error. Removing that argument is a hacky way to get through\n",
    "# this. Also make this change to pysc2 library: https://github.com/chris-chris/pysc2-examples/issues/5\n",
    "print(sys.argv)\n",
    "sys.argv[1:] = []\n",
    "\n",
    "from pysc2.env import sc2_env\n",
    "from pysc2.lib import actions\n",
    "import json\n",
    "\n",
    "step_mul = 8\n",
    "_SELECT_ARMY = actions.FUNCTIONS.select_army.id\n",
    "_SELECT_ALL = [0]\n",
    "\n",
    "# manually init environment\n",
    "with sc2_env.SC2Env(\n",
    "    map_name=\"CollectMineralShards\",\n",
    "    step_mul=step_mul,\n",
    "    feature_screen_size=32,\n",
    "    feature_minimap_size=32,) as env:\n",
    "    \n",
    "    env_start = env.reset() # resets the episode\n",
    "    env_step = env.step(actions=[actions.FunctionCall(_SELECT_ARMY, [_SELECT_ALL])]) # pass in action to carry out and then get info for next state"
   ]
  },
  {
   "cell_type": "code",
   "execution_count": 2,
   "metadata": {},
   "outputs": [
    {
     "name": "stdout",
     "output_type": "stream",
     "text": [
      "type(env_start): <class 'tuple'>\n",
      "len(env_start): 1\n",
      "type(env_start[0]): <class 'pysc2.env.environment.TimeStep'>\n",
      "type(timestep.step_type): <enum 'StepType'>\n",
      "timestep.step_type: StepType.FIRST\n",
      "type(timestep.reward): <class 'int'>\n",
      "timestep.reward: 0\n",
      "type(timestep.discount): <class 'float'>\n",
      "timestep.discount: 1.0\n"
     ]
    }
   ],
   "source": [
    "# examine beginning env\n",
    "print(\"type(env_start):\", type(env_start))\n",
    "print(\"len(env_start):\", len(env_start))\n",
    "print(\"type(env_start[0]):\", type(env_start[0]))\n",
    "timestep = env_start[0]\n",
    "print(\"type(timestep.step_type):\", type(timestep.step_type))\n",
    "print(\"timestep.step_type:\", timestep.step_type)\n",
    "print(\"type(timestep.reward):\", type(timestep.reward))\n",
    "print(\"timestep.reward:\", timestep.reward)\n",
    "print(\"type(timestep.discount):\", type(timestep.discount))\n",
    "print(\"timestep.discount:\", timestep.discount)\n",
    "#print(timestep.observation)\n",
    "obs = timestep.observation"
   ]
  },
  {
   "cell_type": "markdown",
   "metadata": {},
   "source": [
    "TimeStep Attributes: https://github.com/deepmind/pysc2/blob/master/pysc2/env/environment.py\n",
    "Attributes:\n",
    "- step_type: A `StepType` enum value.\n",
    "- reward: A scalar, or `None` if `step_type` is `StepType.FIRST`, i.e. at the start of a sequence.\n",
    "- discount: A discount value in the range `[0, 1]`, or `None` if `step_type` is `StepType.FIRST`, i.e. at the start of a sequence.\n",
    "- observation: A NumPy array, or a dict, list or tuple of arrays.\n",
    "\n"
   ]
  },
  {
   "cell_type": "code",
   "execution_count": 3,
   "metadata": {},
   "outputs": [
    {
     "name": "stdout",
     "output_type": "stream",
     "text": [
      "<class 'pysc2.lib.named_array.NamedDict'>\n",
      "single_select\n",
      "multi_select\n",
      "build_queue\n",
      "cargo\n",
      "cargo_slots_available\n",
      "feature_screen\n",
      "feature_minimap\n",
      "last_actions\n",
      "action_result\n",
      "alerts\n",
      "game_loop\n",
      "score_cumulative\n",
      "player\n",
      "control_groups\n",
      "available_actions\n"
     ]
    }
   ],
   "source": [
    "print(type(obs))\n",
    "for k,v in obs.items():\n",
    "    print(k)\n",
    "# https://github.com/deepmind/pysc2/blob/master/docs/environment.md for details about each of\n",
    "# the below keys"
   ]
  },
  {
   "cell_type": "code",
   "execution_count": 4,
   "metadata": {},
   "outputs": [
    {
     "name": "stdout",
     "output_type": "stream",
     "text": [
      "<class 'pysc2.lib.named_array.NamedNumpyArray'>\n"
     ]
    },
    {
     "data": {
      "text/plain": [
       "NamedNumpyArray([[0, 0, 0, 0, 0, 0, 0]], [None, ['unit_type', 'player_relative', 'health', 'shields', 'energy', 'transport_slots_taken', 'build_progress']])"
      ]
     },
     "execution_count": 4,
     "metadata": {},
     "output_type": "execute_result"
    }
   ],
   "source": [
    "print(type(obs[\"single_select\"]))\n",
    "obs[\"single_select\"]"
   ]
  },
  {
   "cell_type": "code",
   "execution_count": 5,
   "metadata": {},
   "outputs": [
    {
     "data": {
      "text/plain": [
       "0"
      ]
     },
     "execution_count": 5,
     "metadata": {},
     "output_type": "execute_result"
    }
   ],
   "source": [
    "# The above is a NamedNumpyArray. You can access an element by its index or the specified name.\n",
    "obs[\"single_select\"][0][\"unit_type\"]"
   ]
  },
  {
   "cell_type": "code",
   "execution_count": 6,
   "metadata": {},
   "outputs": [
    {
     "name": "stdout",
     "output_type": "stream",
     "text": [
      "0/no_op ()\n",
      "1/move_camera (1/minimap [0, 0])\n",
      "2/select_point (6/select_point_act [4]; 0/screen [0, 0])\n",
      "3/select_rect (7/select_add [2]; 0/screen [0, 0]; 2/screen2 [0, 0])\n",
      "4/select_control_group (4/control_group_act [5]; 5/control_group_id [10])\n",
      "7/select_army (7/select_add [2])\n"
     ]
    }
   ],
   "source": [
    "# print human-readable list of available actions\n",
    "from pysc2.lib import actions\n",
    "\n",
    "for action in obs.available_actions:\n",
    "    print(actions.FUNCTIONS[action])"
   ]
  },
  {
   "cell_type": "code",
   "execution_count": 12,
   "metadata": {},
   "outputs": [
    {
     "name": "stdout",
     "output_type": "stream",
     "text": [
      "0/no_op ()\n",
      "1/move_camera (1/minimap [0, 0])\n",
      "2/select_point (6/select_point_act [4]; 0/screen [0, 0])\n",
      "3/select_rect (7/select_add [2]; 0/screen [0, 0]; 2/screen2 [0, 0])\n",
      "4/select_control_group (4/control_group_act [5]; 5/control_group_id [10])\n",
      "7/select_army (7/select_add [2])\n"
     ]
    }
   ],
   "source": [
    "obs2 = env_step[0].observation\n",
    "\n",
    "for action in obs.available_actions:\n",
    "    print(actions.FUNCTIONS[action])\n",
    "    \n",
    "# looks like the available actions are selecting army"
   ]
  },
  {
   "cell_type": "code",
   "execution_count": null,
   "metadata": {
    "collapsed": true
   },
   "outputs": [],
   "source": []
  }
 ],
 "metadata": {
  "kernelspec": {
   "display_name": "Python 3",
   "language": "python",
   "name": "python3"
  },
  "language_info": {
   "codemirror_mode": {
    "name": "ipython",
    "version": 3
   },
   "file_extension": ".py",
   "mimetype": "text/x-python",
   "name": "python",
   "nbconvert_exporter": "python",
   "pygments_lexer": "ipython3",
   "version": "3.6.3"
  }
 },
 "nbformat": 4,
 "nbformat_minor": 2
}
